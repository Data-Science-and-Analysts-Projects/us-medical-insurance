{
 "cells": [
  {
   "cell_type": "markdown",
   "metadata": {},
   "source": [
    "# U.S. Medical Insurance Costs"
   ]
  },
  {
   "cell_type": "markdown",
   "metadata": {},
   "source": [
    "Project by TheJJSerg, Truong, Sunilyr, and Sug900\n",
    "\n",
    "This group came together via Codecademy's Data Science Career Track. The first unit of the course, Data Science Foundations 1, revolved around learning and practicing Python fundamentals on U.S. Medical Insurance Data.\n",
    "\n",
    "This project will be using the learned Python funamental techniques learned in the course to analyze data from a CSV file with medical insurance cost. We will be going over the following prompts:\n",
    "1. \n",
    "2. \n",
    "3. "
   ]
  },
  {
   "cell_type": "code",
   "execution_count": 1,
   "metadata": {},
   "outputs": [],
   "source": [
    "# Import necessary libraries\n",
    "import csv # Python library used for reading and writing tabular data in CSV format.\n",
    "import pandas as pd # Python library used for working with data sets. It has functions for analyzing, cleaning, exploring, and manipulating data. \n",
    "import json # Python library for encoding and decoding custom objects by using JSON encoder and decoder classes.\n",
    "import numpy # Python library for adding support to large, multi-dimensional arrays and matrices, along with a large collection of high-level mathematical functions to operate on these arrays.\n",
    "import statistics as stat #Python library for statistical operations\n",
    "import matplotlib.pyplot as plt # Python library for creating graphs\n",
    "from scipy import stats # Python library for linear regression\n",
    "# Note to Team - I don't know if it's best practice to include all of these libraries. I'm not sure which ones we will need for the project. I just included all of the libraries I am familiar with to cover our bases. - TheJJSerg"
   ]
  },
  {
   "cell_type": "markdown",
   "metadata": {},
   "source": [
    "This project will use the following Python libraries:\n",
    "* csv, this library is used for reading and writing tabular data in CSV format.\n",
    "* pandas, this library is used for working with data sets. It has functions for analyzing, cleaning, exploring, and manipulating data. \n",
    "* json, this library is used for encoding and decoding custom objects by using JSON encoder and decoder classes.\n",
    "* numpy, this library is used for adding support to large, multi-dimensional arrays and matrices, along with a large collection of high-level mathematical functions to operate on these arrays."
   ]
  },
  {
   "cell_type": "markdown",
   "metadata": {},
   "source": [
    "## An Overview of the Data\n",
    "The data for this project can be found on [Kaggle, Medical Cost Personal Datasets](https://www.kaggle.com/datasets/mirichoi0218/insurance). There are 7 columns:\n",
    "1. age - age of primary beneficiary\n",
    "2. sex - insurance contractor gender: male or female\n",
    "3. bmi - Body Mass Index, providing an understanding of body, weights that are relatively high or low relative to height, objective index of body weight (kg / m^2) using the ratio of height to weight, ideally 18.5 to 24.9\n",
    "4. children - number of children covered by health insurance, ie - the number of dependents\n",
    "5. smoker - represents if the primary beneficiary is a smoker: yes or no\n",
    "6. region - the beneficiary's residential area in the US: northeast, southeast, southwest, or northwest\n",
    "7. charges - individual medical costs billed by the health insurance\n",
    "\n",
    "There are 1,338 observations in the dataset. There are no NA values in the dataset, and the types of the columns in the DataFrame look to be accurately predicted. Therefore, there will be little to no data cleaning. \n",
    "\n",
    "The inspiration of the dataset is the question, \"Can you accurately predict insurance costs?\"\n",
    "\n",
    "Our team will observe the question along with the following:\n",
    "1. a\n",
    "2. b\n",
    "3. c\n",
    "\n",
    "### Assign Variable Names\n",
    "First, we will read the csv file, and then, we will assign variables to conduct analysis on the dataset."
   ]
  },
  {
   "cell_type": "code",
   "execution_count": 11,
   "metadata": {},
   "outputs": [
    {
     "name": "stdout",
     "output_type": "stream",
     "text": [
      "All data has been loaded into their respective lists.\n"
     ]
    }
   ],
   "source": [
    "# Read the insurance.csv using the pandas library\n",
    "insurance = pd.read_csv(\"insurance.csv\")\n",
    "\n",
    "# Define a function to load data into lists\n",
    "def load_data(empty_list, column):\n",
    "    for row in insurance[column]:\n",
    "        empty_list.append(row)\n",
    "    return empty_list\n",
    "\n",
    "# Define the empty lists\n",
    "age = []\n",
    "sex = []\n",
    "bmi = []\n",
    "children = []\n",
    "smoker = []\n",
    "region = []\n",
    "charges = []\n",
    "\n",
    "# Use the function to load data to the empty lists\n",
    "load_data(age, \"age\")\n",
    "load_data(sex, \"sex\")\n",
    "load_data(bmi, \"bmi\")\n",
    "load_data(children, \"children\")\n",
    "load_data(smoker, \"smoker\")\n",
    "load_data(region, \"region\")\n",
    "load_data(charges, \"charges\")\n",
    "print(\"All data has been loaded into their respective lists.\")"
   ]
  },
  {
   "cell_type": "markdown",
   "metadata": {},
   "source": [
    "## Gustavo's Section\n",
    "1. Calculate the average age of the patients\n",
    "2. Investigate where are the patients from\n",
    "3. Look at cost betwween smokers and non-smokers"
   ]
  },
  {
   "cell_type": "markdown",
   "metadata": {},
   "source": [
    "This first section creates a list to handle the data"
   ]
  },
  {
   "cell_type": "code",
   "execution_count": 3,
   "metadata": {},
   "outputs": [],
   "source": [
    "def insurance_file_manager():\n",
    "    with open (\"insurance.csv\") as insurance_data:\n",
    "        insurance_cost = csv.DictReader(insurance_data)\n",
    "        insurances = []\n",
    "        for items in insurance_cost:\n",
    "            insurances.append(items)\n",
    "    return insurances\n",
    "insurance_list = insurance_file_manager()"
   ]
  },
  {
   "cell_type": "code",
   "execution_count": 4,
   "metadata": {},
   "outputs": [
    {
     "name": "stdout",
     "output_type": "stream",
     "text": [
      "The average age of the patients is 39.21 years old\n"
     ]
    }
   ],
   "source": [
    "#Using stats mean method to calculate the average age\n",
    "avg_age = round(stat.mean(age),2)\n",
    "print(f'The average age of the patients is {avg_age} years old')"
   ]
  },
  {
   "cell_type": "code",
   "execution_count": 5,
   "metadata": {},
   "outputs": [
    {
     "name": "stdout",
     "output_type": "stream",
     "text": [
      "The majority of the patients come from southeast\n"
     ]
    }
   ],
   "source": [
    "#Using stats mode method to calculate the most common region\n",
    "region_mode = stat.mode(region)\n",
    "print(f'The majority of the patients come from {region_mode}')\n"
   ]
  },
  {
   "cell_type": "code",
   "execution_count": 6,
   "metadata": {},
   "outputs": [
    {
     "name": "stdout",
     "output_type": "stream",
     "text": [
      "Smokers Average Insurance Cost is: 6563.35\n",
      "Non Smokers Average Insurance Cost is: 6707.07\n"
     ]
    }
   ],
   "source": [
    "def insurance_smoker_manager(insurance_list):\n",
    "    #starting counter of smokers & non-smokers cost\n",
    "    charges_smokers = 0\n",
    "    charges_non_smokers = 0\n",
    "    #loop to go through the list for smokers and non skomers\n",
    "    for items in insurance_list:\n",
    "        if items[\"smoker\"] == \"yes\":\n",
    "            charges_smokers = charges_smokers + float(items[\"charges\"])\n",
    "        if items[\"smoker\"] == \"no\":\n",
    "            charges_non_smokers = charges_non_smokers + float(items[\"charges\"])\n",
    "    #calculate the average of cost for both groups\n",
    "    avg_smokers = charges_smokers/len(insurance_list)\n",
    "    avg_non_smokers = charges_non_smokers/len(insurance_list)\n",
    "    #print results\n",
    "    print(\"Smokers Average Insurance Cost is: \" + str(round(avg_smokers,2)))\n",
    "    print(\"Non Smokers Average Insurance Cost is: \" + str(round(avg_non_smokers,2)))\n",
    "insurance_smoker_manager(insurance_list)"
   ]
  },
  {
   "cell_type": "markdown",
   "metadata": {},
   "source": [
    "## TheJJSerg's Section\n",
    "Linear Regression is a statistical model which estimates the linear relationshiop between a scalar response and one or more explantory variables. The general formula for linear regression is \n",
    "\n",
    "```\n",
    "y = m*x + b\n",
    "``` \n",
    "`m` is the slope of the line, and `b` is the intercept, where the line crosses the y-axis.\n",
    "\n",
    "We will first define simple linear regressions, which is one variable (the independent variable) attempting to estimate the dependent variable.\n",
    "\n",
    "The independent variables will be \n",
    "1. age\n",
    "2. sex\n",
    "3. bmi\n",
    "4. children\n",
    "5. smoker\n",
    "6. region\n",
    "\n",
    "`charges` will be the dependent variable, as we will be trying to estimate it using the independent variables above. We will be finding the line of best fit by trial-and-error\n",
    "\n",
    "### Initial Steps to Perform Simple Linear Regressions"
   ]
  },
  {
   "cell_type": "code",
   "execution_count": 7,
   "metadata": {},
   "outputs": [],
   "source": [
    "# Create a list of possible `m` values and `b` values\n",
    "possible_ms = [number for number in range(0, 11)]\n",
    "possible_bs = [number for number in range(0, 21)]\n",
    "\n",
    "# Define the get_y function\n",
    "def get_y(m, b, x):\n",
    "    y = m*x + b\n",
    "    return y\n",
    "\n",
    "# Define the calculate_error function\n",
    "def calculate_error(m, b, point):\n",
    "    # Define the point values\n",
    "    x_point = point[0]\n",
    "    y_point = point[1]\n",
    "    \n",
    "    # Call the get_y function\n",
    "    get_y_point = get_y(m = m, x = x_point, b = b)\n",
    "    \n",
    "    # Find the difference, or the error, between the linear regression line and the actual value\n",
    "    difference = y_point - get_y_point\n",
    "    \n",
    "    # Find the absolute value of the difference and define as the error\n",
    "    error = abs(difference)\n",
    "    \n",
    "    # Return the error\n",
    "    return error\n",
    "\n",
    "# Define the calculate_all_error function\n",
    "def calculate_all_error(m, b, data):\n",
    "    error = 0\n",
    "    for point in data:\n",
    "        current_error = calculate_error(m, b, point)\n",
    "        error += current_error\n",
    "        \n",
    "    return error\n",
    "\n",
    "# Define the datapoints function\n",
    "def datapoints(x_points, y_points):\n",
    "    data = []\n",
    "    for i in range(len(x_points)):\n",
    "        data.append((x_points[i], y_points[i]))\n",
    "        \n",
    "    return data\n",
    "\n",
    "# Define the simple linear regression function\n",
    "def simple_linear_regression(independent, independent_word, dependent = charges):\n",
    "    data = datapoints(independent, dependent)\n",
    "    # Define smallest_error as infinity so that the first error will be smallest\n",
    "    smallest_error = float(\"inf\")\n",
    "\n",
    "    # Define the line of best fit variables\n",
    "    best_m = 0\n",
    "    best_b = 0\n",
    "    \n",
    "    for m in possible_ms:\n",
    "        for b in possible_bs:\n",
    "            error = calculate_all_error(m, b, data)\n",
    "            \n",
    "            if error < smallest_error:\n",
    "                smallest_error = error\n",
    "                best_m = m\n",
    "                best_b = b\n",
    "                \n",
    "    print(\"The best m is \" + str(best_m))\n",
    "    print(\"The best b is \" + str(best_b))\n",
    "    print(\"The Linear Regression Line is \")\n",
    "    print(\"charges = \" + str(round(best_m, 2)) + \" * \" + independent_word + \" + \" + str(round(best_b, 2)))\n",
    "    print(\"The smallest error is \" + str(round(smallest_error, 2)))"
   ]
  },
  {
   "cell_type": "markdown",
   "metadata": {},
   "source": [
    "### Simple Linear Regression Calculations\n",
    "\n",
    "We will now perform simple linear regression calculations\n",
    "\n",
    "#### Simple Linear Regression for Age to Estimate Charges"
   ]
  },
  {
   "cell_type": "code",
   "execution_count": 8,
   "metadata": {},
   "outputs": [
    {
     "name": "stdout",
     "output_type": "stream",
     "text": [
      "The best m is 10\n",
      "The best b is 20\n",
      "The Linear Regression Line is \n",
      "charges = 10 * age + 20\n",
      "The smallest error is 17204474.99\n"
     ]
    }
   ],
   "source": [
    "simple_linear_regression(age, \"age\")\n",
    "# When m is -10, 10\n",
    "#The best m is 10.0\n",
    "#The best b is 20.0\n",
    "#The smallest error is 17204474.990758996\n",
    "\n",
    "# m is -100\n",
    "#The best m is 100\n",
    "#The best b is 100\n",
    "#The smallest error is 12464589.721659007"
   ]
  },
  {
   "cell_type": "code",
   "execution_count": 9,
   "metadata": {},
   "outputs": [
    {
     "name": "stdout",
     "output_type": "stream",
     "text": [
      "age\n",
      "_\n",
      "\n"
     ]
    },
    {
     "data": {
      "image/png": "[encoded data removed]",
      "text/plain": [
       "<Figure size 640x480 with 1 Axes>"
      ]
     },
     "metadata": {},
     "output_type": "display_data"
    },
    {
     "name": "stdout",
     "output_type": "stream",
     "text": [
      "The Linear Regression Line is \n",
      "Charges = 257.72 * Age + 3165.89\n",
      "R is 0.299\n",
      "Standard Error is 22.502\n"
     ]
    }
   ],
   "source": [
    "# TheJJSerg Changes\n",
    "# My Changes\n",
    "\n",
    "def get_variable_name(variable):\n",
    "    for name in globals():\n",
    "        if id(globals()[name]) == id(variable):\n",
    "            return name\n",
    "    for name in locals():\n",
    "        if id(locals()[name]) == id(variable):\n",
    "            return name\n",
    "    return None\n",
    "\n",
    "def simple_linear_regression(x, y):\n",
    "    \n",
    "    # Define the title of the variable\n",
    "    x_word = get_variable_name(x)\n",
    "    y_word = get_variable_name(y)\n",
    "    print(x_word)\n",
    "    print(y_word)\n",
    "    print(\"\")\n",
    "    # Define the following using linear regression\n",
    "    slope, intercept, r, p, std_err = stats.linregress(x, y)\n",
    "    \n",
    "    # This function needs to be defined inside of the function for simple_linear_regression() to work\n",
    "    def myfunc(x):\n",
    "        return slope * x + intercept\n",
    "    \n",
    "    # Create a model\n",
    "    model = list(map(myfunc, x))\n",
    "    \n",
    "    # Create a scatterplot and draw the linear regression line\n",
    "    plt.scatter(x, y)\n",
    "    plt.plot(x, model)\n",
    "    \n",
    "    # Label the graph\n",
    "    plt.title(x_word.title() + \" Estimating Charges via Linear Regression\")\n",
    "    plt.xlabel(x_word.title())\n",
    "    plt.ylabel(y_word.title())\n",
    "    \n",
    "    # Outputs\n",
    "    plt.show() \n",
    "    print(\"The Linear Regression Line is \")\n",
    "    print(\"Charges = \" + str(round(slope, 2)) + \" * \" + str(x_word.title()) + \" + \" + str(round(intercept, 2)))\n",
    "    print(\"R is \" + str(round(r, 3)))\n",
    "    print(\"Standard Error is \" + str(round(std_err, 3)))\n",
    "    return [slope, intercept, r, p, std_err]\n",
    "\n",
    "simple_linear_regression_age = simple_linear_regression(x = age, y = charges)"
   ]
  },
  {
   "cell_type": "markdown",
   "metadata": {},
   "source": [
    "# Sunil's Section\n",
    "#13 Figure out what the average age is for someone who has at least one child in this dataset\n"
   ]
  },
  {
   "cell_type": "code",
   "execution_count": 10,
   "metadata": {},
   "outputs": [
    {
     "name": "stdout",
     "output_type": "stream",
     "text": [
      "The average age for a person with at least one child in this dataset is 39.78 years.\n"
     ]
    }
   ],
   "source": [
    "def average_age_with_children():\n",
    "    age_and_children = list(zip(age, children)) #Merge age and children lists using zip; make sure to convert\n",
    "    with_children = [] #Empty list for storing the ages of subjects with 1 or more children\n",
    "\n",
    "    for subject in age_and_children:\n",
    "        if subject[1] > 0:\n",
    "            with_children.append(subject[0])\n",
    "            \n",
    "    mean_age_with_kids = round(sum(with_children)/len(with_children), 2) #Calculate mean age\n",
    "    return mean_age_with_kids\n",
    "\n",
    "\n",
    "print('The average age for a person with at least one child in this dataset is', average_age_with_children(), \"years.\")\n"
   ]
  }
 ],
 "metadata": {
  "kernelspec": {
   "display_name": "Python 3 (ipykernel)",
   "language": "python",
   "name": "python3"
  },
  "language_info": {
   "codemirror_mode": {
    "name": "ipython",
    "version": 3
   },
   "file_extension": ".py",
   "mimetype": "text/x-python",
   "name": "python",
   "nbconvert_exporter": "python",
   "pygments_lexer": "ipython3",
   "version": "3.11.5"
  }
 },
 "nbformat": 4,
 "nbformat_minor": 4
}
