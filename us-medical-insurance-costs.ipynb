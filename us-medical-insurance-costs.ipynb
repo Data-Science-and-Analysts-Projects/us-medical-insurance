{
 "cells": [
  {
   "cell_type": "markdown",
   "metadata": {},
   "source": [
    "# U.S. Medical Insurance Costs"
   ]
  },
  {
   "cell_type": "markdown",
   "metadata": {},
   "source": [
    "Project by TheJJSerg, Sunilyr, and Sug900\n",
    "\n",
    "This group came together via Codecademy's Data Science Career Track. The first unit of the course, Data Science Foundations 1, revolved around learning and practicing Python fundamentals on U.S. Medical Insurance Data.\n",
    "\n",
    "This project will be using the learned Python funamental techniques learned in the course to analyze data from a CSV file with medical insurance cost. We will be going over the following prompts:\n",
    "1. \n",
    "2. \n",
    "3. "
   ]
  },
  {
   "cell_type": "code",
   "execution_count": null,
   "metadata": {},
   "outputs": [],
   "source": [
    "# Import necessary libraries\n",
    "import csv # Python library used for reading and writing tabular data in CSV format.\n",
    "import pandas as pd # Python library used for working with data sets. It has functions for analyzing, cleaning, exploring, and manipulating data. \n",
    "import json # Python library for encoding and decoding custom objects by using JSON encoder and decoder classes.\n",
    "import numpy as np # Python library for adding support to large, multi-dimensional arrays and matrices, along with a large collection of high-level mathematical functions to operate on these arrays.\n",
    "import seaborn as sns #Python library for statistical visualizations\n",
    "import statistics as stat #Python library for statistical operations\n",
    "import matplotlib.pyplot as plt # Python library for creating graphs\n",
    "from scipy import stats # Python library for linear regression\n",
    "# Note to Team - I don't know if it's best practice to include all of these libraries. I'm not sure which ones we will need for the project. I just included all of the libraries I am familiar with to cover our bases. - TheJJSerg"
   ]
  },
  {
   "cell_type": "markdown",
   "metadata": {},
   "source": [
    "This project will use the following Python libraries:\n",
    "* csv, this library is used for reading and writing tabular data in CSV format.\n",
    "* pandas, this library is used for working with data sets. It has functions for analyzing, cleaning, exploring, and manipulating data. \n",
    "* json, this library is used for encoding and decoding custom objects by using JSON encoder and decoder classes.\n",
    "* numpy, this library is used for adding support to large, multi-dimensional arrays and matrices, along with a large collection of high-level mathematical functions to operate on these arrays."
   ]
  },
  {
   "cell_type": "markdown",
   "metadata": {},
   "source": [
    "## An Overview of the Data\n",
    "The data for this project can be found on [Kaggle, Medical Cost Personal Datasets](https://www.kaggle.com/datasets/mirichoi0218/insurance). There are 7 columns:\n",
    "1. age - age of primary beneficiary\n",
    "2. sex - insurance contractor gender: male or female\n",
    "3. bmi - Body Mass Index, providing an understanding of body, weights that are relatively high or low relative to height, objective index of body weight (kg / m^2) using the ratio of height to weight, ideally 18.5 to 24.9\n",
    "4. children - number of children covered by health insurance, ie - the number of dependents\n",
    "5. smoker - represents if the primary beneficiary is a smoker: yes or no\n",
    "6. region - the beneficiary's residential area in the US: northeast, southeast, southwest, or northwest\n",
    "7. charges - individual medical costs billed by the health insurance\n",
    "\n",
    "There are 1,338 observations in the dataset. There are no NA values in the dataset, and the types of the columns in the DataFrame look to be accurately predicted. Therefore, there will be little to no data cleaning. \n",
    "\n",
    "The inspiration of the dataset is the question, \"Can you accurately predict insurance costs?\"\n",
    "\n",
    "Our team will observe the question along with the following:\n",
    "1. a\n",
    "2. b\n",
    "3. c\n",
    "\n",
    "### Assign Variable Names\n",
    "First, we will read the csv file, and then, we will assign variables to conduct analysis on the dataset."
   ]
  },
  {
   "cell_type": "code",
   "execution_count": null,
   "metadata": {},
   "outputs": [],
   "source": [
    "# Read the insurance.csv using the pandas library\n",
    "insurance = pd.read_csv(\"insurance.csv\")\n",
    "\n",
    "# Define a function to load data into lists\n",
    "def load_data(empty_list, column):\n",
    "    for row in insurance[column]:\n",
    "        empty_list.append(row)\n",
    "    return empty_list\n",
    "\n",
    "# Define the empty lists\n",
    "age = []\n",
    "sex = []\n",
    "bmi = []\n",
    "children = []\n",
    "smoker = []\n",
    "region = []\n",
    "charges = []\n",
    "\n",
    "# Use the function to load data to the empty lists\n",
    "load_data(age, \"age\")\n",
    "load_data(sex, \"sex\")\n",
    "load_data(bmi, \"bmi\")\n",
    "load_data(children, \"children\")\n",
    "load_data(smoker, \"smoker\")\n",
    "load_data(region, \"region\")\n",
    "load_data(charges, \"charges\")\n",
    "print(\"All data has been loaded into their respective lists.\")"
   ]
  },
  {
   "cell_type": "markdown",
   "metadata": {},
   "source": [
    "## Gustavo's Section\n",
    "1. Calculate the average age of the patients\n",
    "2. Investigate where are the patients from\n",
    "3. Look at cost between smokers and non-smokers\n",
    "4. Add summary of the data and description of the variables\n",
    "4. Add some statistical analysis of the variables"
   ]
  },
  {
   "cell_type": "markdown",
   "metadata": {},
   "source": [
    "This first section creates a list to handle the data"
   ]
  },
  {
   "cell_type": "code",
   "execution_count": null,
   "metadata": {},
   "outputs": [],
   "source": [
    "def insurance_file_manager():\n",
    "    with open (\"insurance.csv\") as insurance_data:\n",
    "        insurance_cost = csv.DictReader(insurance_data)\n",
    "        insurances = []\n",
    "        for items in insurance_cost:\n",
    "            insurances.append(items)\n",
    "    return insurances\n",
    "insurance_list = insurance_file_manager()"
   ]
  },
  {
   "cell_type": "code",
   "execution_count": null,
   "metadata": {},
   "outputs": [],
   "source": [
    "#Using stats mean method to calculate the average age\n",
    "avg_age = round(stat.mean(age),2)\n",
    "print(f'The average age of the patients is {avg_age} years old')"
   ]
  },
  {
   "cell_type": "code",
   "execution_count": null,
   "metadata": {},
   "outputs": [],
   "source": [
    "#Using stats mode method to calculate the most common region\n",
    "region_mode = stat.mode(region)\n",
    "print(f'The majority of the patients come from {region_mode}')"
   ]
  },
  {
   "cell_type": "code",
   "execution_count": null,
   "metadata": {},
   "outputs": [],
   "source": [
    "def insurance_smoker_manager(insurance_list):\n",
    "    #starting counter of smokers & non-smokers cost\n",
    "    charges_smokers = 0\n",
    "    charges_non_smokers = 0\n",
    "    #loop to go through the list for smokers and non skomers\n",
    "    for items in insurance_list:\n",
    "        if items[\"smoker\"] == \"yes\":\n",
    "            charges_smokers = charges_smokers + float(items[\"charges\"])\n",
    "        if items[\"smoker\"] == \"no\":\n",
    "            charges_non_smokers = charges_non_smokers + float(items[\"charges\"])\n",
    "    #calculate the average of cost for both groups\n",
    "    avg_smokers = charges_smokers/len(insurance_list)\n",
    "    avg_non_smokers = charges_non_smokers/len(insurance_list)\n",
    "    #print results\n",
    "    print(\"Smokers Average Insurance Cost is: \" + str(round(avg_smokers,2)))\n",
    "    print(\"Non Smokers Average Insurance Cost is: \" + str(round(avg_non_smokers,2)))\n",
    "insurance_smoker_manager(insurance_list)"
   ]
  },
  {
   "cell_type": "markdown",
   "metadata": {},
   "source": [
    "### Data frame summary\n",
    " \n",
    "- As part of the data exploratory analysis, an overview of the dataset and what type of variables the project has is a good starting point:\n",
    "    - The count shows 1338 for all columns showing no missing data\n",
    "    - The unique count allows to check if errors or strange unique inputs are present in categorical or binary variables for example\n",
    "    - The rest of the statistical values are summarized to allow us to evaluate what type of data are we dealing with and how the data is distributed "
   ]
  },
  {
   "cell_type": "code",
   "execution_count": null,
   "metadata": {},
   "outputs": [],
   "source": [
    "#Summary of the data types and manin statistics of the data frame\n",
    "insurance_data_summary = insurance.describe(include='all')\n",
    "print(insurance.dtypes)\n",
    "print(insurance_data_summary)"
   ]
  },
  {
   "cell_type": "markdown",
   "metadata": {},
   "source": [
    "### Box Plot Region and Insurance cost by gender \n",
    "- All the regions show similar medians but shout and north east have broader IQR\n",
    "- It is interesting that there are many outliers in all four groups\n",
    "- In all regions, the male group seems to have a wider IQR\n",
    "- More information about plot plots can be found [here](https://builtin.com/data-science/boxplot)"
   ]
  },
  {
   "cell_type": "code",
   "execution_count": null,
   "metadata": {},
   "outputs": [],
   "source": [
    "#plotting a box plot with regions and gender\n",
    "sns.set(style='whitegrid')\n",
    "sns.boxplot(x='region', y='charges', palette=\"Set2\", hue='sex', data=insurance)\n",
    "plt.xlabel(\"Region in the US\")\n",
    "plt.ylabel(\"Insurance Cost\")\n",
    "plt.show()\n",
    "plt.clf()"
   ]
  },
  {
   "cell_type": "markdown",
   "metadata": {},
   "source": [
    "### Box Plot Smoker status and Insurance cost by gender\n",
    "- This analysis shows that the insurance is highly linked to the smoker and non-smoker status\n",
    "- Some outliers can still be seen in the non-smokers group, probably other factors constributing to higher insurance costs\n"
   ]
  },
  {
   "cell_type": "code",
   "execution_count": null,
   "metadata": {},
   "outputs": [],
   "source": [
    "#box plot for smokers and non-smokers\n",
    "sns.set(style='whitegrid')\n",
    "sns.boxplot(x='smoker', y='charges', palette=\"Set2\", hue='sex', data=insurance)\n",
    "plt.xlabel(\"Smokers & Non-Smokers\")\n",
    "plt.ylabel(\"Insurance Cost\")\n",
    "plt.show()\n",
    "plt.clf()"
   ]
  },
  {
   "cell_type": "markdown",
   "metadata": {},
   "source": [
    "### Histogram of insurance costs by gender\n",
    "- When looking at the histograms it can be seen that there no major differences between gender when it comes to the insurance cost"
   ]
  },
  {
   "cell_type": "code",
   "execution_count": null,
   "metadata": {},
   "outputs": [],
   "source": [
    "#Overlapped histograms if insurance cost\n",
    "insurance_females = insurance.charges[insurance.sex == 'female']\n",
    "insurance_males = insurance.charges[insurance.sex == 'male']\n",
    "sns.set(style='whitegrid')\n",
    "sns.histplot(insurance_females,color=\"green\", alpha =0.4, kde=True)\n",
    "sns.histplot(insurance_males,color = \"red\", alpha = 0.4, kde=True)\n",
    "plt.xlabel(\"Insurance Cost\")\n",
    "plt.ylabel(\"Insurance Freq\")\n",
    "plt.show()\n",
    "plt.clf()"
   ]
  },
  {
   "cell_type": "markdown",
   "metadata": {},
   "source": [
    "## TheJJSerg's Section\n",
    "Linear Regression is a statistical model which estimates the linear relationshiop between a scalar response and one or more explantory variables. The general formula for linear regression is \n",
    "\n",
    "```\n",
    "y = m*x + b\n",
    "``` \n",
    "`m` is the slope of the line, and `b` is the intercept, where the line crosses the y-axis.\n",
    "\n",
    "We will first define simple linear regressions, which is one variable (the independent variable) attempting to estimate the dependent variable.\n",
    "\n",
    "The independent variables will be \n",
    "1. age\n",
    "2. sex\n",
    "3. bmi\n",
    "4. children\n",
    "5. smoker\n",
    "6. region\n",
    "\n",
    "`charges` will be the dependent variable, as we will be trying to estimate it using the independent variables above. We will be finding the line of best fit by trial-and-error\n",
    "\n",
    "### Initial Steps to Perform Simple Linear Regressions\n",
    "\n",
    "We will first use a **brute-force** method to find a simple linear regression line. The weaknesses of the brute-force method is the computing power of the machine. It will take a long time to use a `for loop` to find the best linear regression line for lengthy ranges, so we will attempt to do the brute-force method using small ranges."
   ]
  },
  {
   "cell_type": "code",
   "execution_count": null,
   "metadata": {},
   "outputs": [],
   "source": [
    "# Define a function to get the name of a variable\n",
    "def get_variable_name(variable):\n",
    "    for name in globals():\n",
    "        if id(globals()[name]) == id(variable):\n",
    "            return name\n",
    "    for name in locals():\n",
    "        if id(locals()[name]) == id(variable):\n",
    "            return name\n",
    "    return None\n",
    "\n",
    "# Create a list of possible `m` values and `b` values\n",
    "possible_ms = [number for number in range(0, 11)]\n",
    "possible_bs = [number for number in range(0, 21)]\n",
    "\n",
    "# Define the get_y function\n",
    "def get_y(m, b, x):\n",
    "    y = m*x + b\n",
    "    return y\n",
    "\n",
    "# Define the calculate_error function\n",
    "def calculate_error(m, b, point):\n",
    "    # Define the point values\n",
    "    x_point = point[0]\n",
    "    y_point = point[1]\n",
    "    \n",
    "    # Call the get_y function\n",
    "    get_y_point = get_y(m = m, x = x_point, b = b)\n",
    "    \n",
    "    # Find the difference, or the error, between the linear regression line and the actual value\n",
    "    difference = y_point - get_y_point\n",
    "    \n",
    "    # Find the absolute value of the difference and define as the error\n",
    "    error = abs(difference)\n",
    "    \n",
    "    # Return the error\n",
    "    return error\n",
    "\n",
    "# Define the calculate_all_error function\n",
    "def calculate_all_error(m, b, data):\n",
    "    error = 0\n",
    "    for point in data:\n",
    "        current_error = calculate_error(m, b, point)\n",
    "        error += current_error\n",
    "        \n",
    "    return error\n",
    "\n",
    "# Define the datapoints function\n",
    "def datapoints(x_points, y_points):\n",
    "    data = []\n",
    "    for i in range(len(x_points)):\n",
    "        data.append((x_points[i], y_points[i]))\n",
    "        \n",
    "    return data\n",
    "\n",
    "# Define the simple linear regression function\n",
    "def simple_linear_regression(independent, dependent):\n",
    "    data = datapoints(independent, dependent)\n",
    "    \n",
    "    # Obtain the variable names\n",
    "    independent_word = get_variable_name(independent)\n",
    "    dependent_word = get_variable_name(dependent)\n",
    "    \n",
    "    # Define smallest_error as infinity so that the first error will be smallest\n",
    "    smallest_error = float(\"inf\")\n",
    "\n",
    "    # Define the line of best fit variables\n",
    "    best_m = 0\n",
    "    best_b = 0\n",
    "    \n",
    "    for m in possible_ms:\n",
    "        for b in possible_bs:\n",
    "            error = calculate_all_error(m, b, data)\n",
    "            \n",
    "            if error < smallest_error:\n",
    "                smallest_error = error\n",
    "                best_m = m\n",
    "                best_b = b\n",
    "                \n",
    "    print(\"The best m is \" + str(best_m))\n",
    "    print(\"The best b is \" + str(best_b))\n",
    "    print(\"The Linear Regression Line is \")\n",
    "    print(dependent_word.title() + \" = \" + str(round(best_m, 2)) + \" * \" + independent_word.title() + \" + \" + str(round(best_b, 2)))\n",
    "    print(\"The smallest error is \" + str(round(smallest_error, 2)))"
   ]
  },
  {
   "cell_type": "markdown",
   "metadata": {},
   "source": [
    "### Simple Linear Regression Calculations\n",
    "\n",
    "We will now perform simple linear regression calculations\n",
    "\n",
    "#### Simple Linear Regression for Age to Estimate Charges"
   ]
  },
  {
   "cell_type": "code",
   "execution_count": null,
   "metadata": {},
   "outputs": [],
   "source": [
    "# Attempt the Brute-Force Method\n",
    "simple_linear_regression(age, charges)"
   ]
  },
  {
   "cell_type": "markdown",
   "metadata": {},
   "source": [
    "The brute-force method found the linear regression line as `Charges = 10 * age + 20`. However, the Standard Error is quite large at 17,204,474.99. This isn't a great linear regression line. We will attempt another method to obtain a more accurate linear regression line."
   ]
  },
  {
   "cell_type": "code",
   "execution_count": null,
   "metadata": {},
   "outputs": [],
   "source": [
    "# Define the Simple Linear Regression Function\n",
    "def simple_linear_regression(x, y):\n",
    "    \n",
    "    # Define the title of the variables\n",
    "    x_word = get_variable_name(x)\n",
    "    y_word = get_variable_name(y)\n",
    "    \n",
    "    # Define the following using linear regression\n",
    "    slope, intercept, r, p, std_err = stats.linregress(x, y)\n",
    "    \n",
    "    # This function needs to be defined inside of the function for simple_linear_regression() to work\n",
    "    def myfunc(x):\n",
    "        return slope * x + intercept\n",
    "    \n",
    "    # Create a model\n",
    "    model = list(map(myfunc, x))\n",
    "    \n",
    "    # Create a scatterplot and draw the linear regression line\n",
    "    plt.scatter(x, y)\n",
    "    plt.plot(x, model)\n",
    "    \n",
    "    # Label the graph\n",
    "    plt.title(x_word.title() + \" Estimating \" + y_word.title() + \" via Linear Regression\")\n",
    "    plt.xlabel(x_word.title())\n",
    "    plt.ylabel(y_word.title())\n",
    "    \n",
    "    # Outputs\n",
    "    plt.show() \n",
    "    print(\"The Linear Regression Line is \")\n",
    "    print(y_word.title() + \" = \" + str(round(slope, 2)) + \" * \" + x_word.title() + \" + \" + str(round(intercept, 2)))\n",
    "    print(\"R is \" + str(round(r, 3)))\n",
    "    print(\"Standard Error is \" + str(round(std_err, 3)))\n",
    "    return [slope, intercept, r, p, std_err]"
   ]
  },
  {
   "cell_type": "code",
   "execution_count": null,
   "metadata": {},
   "outputs": [],
   "source": [
    "# Use simple_linear_regression to estimate charges with age\n",
    "simple_linear_regression_age = simple_linear_regression(x = age, y = charges)"
   ]
  },
  {
   "cell_type": "markdown",
   "metadata": {},
   "source": [
    "We see that the linear regression of  has a significantly smaller error than the brute-force method linear regression of , so the \n",
    "\n",
    "We see that the brute-force method's linear regression line of `Charges = 10 * Age + 20` has a significantly larger error than the second linear regresson line of `Charges = 257.72 * Age + 3165.89`, so the second linear regression line is more accurate at estimating charges with age.\n",
    "\n",
    "**Interpretation of `Charges = 257.72 * Age + 3165.89`**: <br>\n",
    "Starting at \\\\$3,165.89, `Charges` increases by \\\\$257.72 for every `Age` on an individual on the insurance plan."
   ]
  },
  {
   "cell_type": "markdown",
   "metadata": {},
   "source": [
    "We can use the simple linear regression function created above to find linear regression lines to use a quantitative variable in our dataset to estimate charges or other quantitative variables. "
   ]
  },
  {
   "cell_type": "code",
   "execution_count": null,
   "metadata": {},
   "outputs": [],
   "source": [
    "# Use simple_linear_regression to estimate charges with bmi\n",
    "simple_linear_regression_bmi = simple_linear_regression(x = bmi, y = charges)"
   ]
  },
  {
   "cell_type": "markdown",
   "metadata": {},
   "source": [
    "**Interpretation of `Charges = 393.87 * BMI + 1192.94`**: <br>\n",
    "Starting at \\\\$1,192.94 `Charges` increases by \\\\$393.87 multiplied by the `BMI` for an individual on the insurance plan."
   ]
  },
  {
   "cell_type": "markdown",
   "metadata": {},
   "source": [
    "# Sunil's Section\n",
    "#13 Figure out what the average age is for someone who has at least one child in this dataset\n"
   ]
  },
  {
   "cell_type": "code",
   "execution_count": null,
   "metadata": {},
   "outputs": [],
   "source": [
    "def average_age_with_children():\n",
    "    age_and_children = list(zip(age, children)) #Merge age and children lists using zip; make sure to convert\n",
    "    with_children = [] #Empty list for storing the ages of subjects with 1 or more children\n",
    "\n",
    "    for subject in age_and_children:\n",
    "        if subject[1] > 0:\n",
    "            with_children.append(subject[0])\n",
    "            \n",
    "    mean_age_with_kids = round(sum(with_children)/len(with_children), 2) #Calculate mean age\n",
    "    return mean_age_with_kids\n",
    "\n",
    "\n",
    "print('The average age for a person with at least one child in this dataset is', average_age_with_children(), \"years.\")\n"
   ]
  }
 ],
 "metadata": {
  "kernelspec": {
   "display_name": "Python 3 (ipykernel)",
   "language": "python",
   "name": "python3"
  },
  "language_info": {
   "codemirror_mode": {
    "name": "ipython",
    "version": 3
   },
   "file_extension": ".py",
   "mimetype": "text/x-python",
   "name": "python",
   "nbconvert_exporter": "python",
   "pygments_lexer": "ipython3",
   "version": "3.12.1"
  }
 },
 "nbformat": 4,
 "nbformat_minor": 4
}
