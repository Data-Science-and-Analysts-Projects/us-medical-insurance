{
 "cells": [
  {
   "cell_type": "markdown",
   "metadata": {},
   "source": [
    "# U.S. Medical Insurance Costs"
   ]
  },
  {
   "cell_type": "markdown",
   "metadata": {},
   "source": [
    "Project by TheJJSerg, Truong, Sunilyr, and Sug900\n",
    "\n",
    "This group came together via Codecademy's Data Science Career Track. The first unit of the course, Data Science Foundations 1, revolved around learning and practicing Python fundamentals on U.S. Medical Insurance Data.\n",
    "\n",
    "This project will be using the learned Python funamental techniques learned in the course to analyze data from a CSV file with medical insurance cost. We will be going over the following prompts:\n",
    "1. \n",
    "2. \n",
    "3. "
   ]
  },
  {
   "cell_type": "code",
   "execution_count": 1,
   "metadata": {},
   "outputs": [],
   "source": [
    "# Import necessary libraries\n",
    "import csv # Python library used for reading and writing tabular data in CSV format.\n",
    "import pandas as pd # Python library used for working with data sets. It has functions for analyzing, cleaning, exploring, and manipulating data. \n",
    "import json # Python library for encoding and decoding custom objects by using JSON encoder and decoder classes.\n",
    "import numpy # Python library for adding support to large, multi-dimensional arrays and matrices, along with a large collection of high-level mathematical functions to operate on these arrays.\n",
    "# Note to Team - I don't know if it's best practice to include all of these libraries. I'm not sure which ones we will need for the project. I just included all of the libraries I am familiar with to cover our bases. - TheJJSerg"
   ]
  },
  {
   "cell_type": "markdown",
   "metadata": {},
   "source": [
    "This project will use the following Python libraries:\n",
    "* csv, this library is used for reading and writing tabular data in CSV format.\n",
    "* pandas, this library is used for working with data sets. It has functions for analyzing, cleaning, exploring, and manipulating data. \n",
    "* json, this library is used for encoding and decoding custom objects by using JSON encoder and decoder classes.\n",
    "* numpy, this library is used for adding support to large, multi-dimensional arrays and matrices, along with a large collection of high-level mathematical functions to operate on these arrays."
   ]
  },
  {
   "cell_type": "markdown",
   "metadata": {},
   "source": [
    "## An Overview of the Data\n",
    "The data for this project can be found on [Kaggle, Medical Cost Personal Datasets](https://www.kaggle.com/datasets/mirichoi0218/insurance). There are 7 columns:\n",
    "1. age - age of primary beneficiary\n",
    "2. sex - insurance contractor gender: male or female\n",
    "3. bmi - Body Mass Index, providing an understanding of body, weights that are relatively high or low relative to height, objective index of body weight (kg / m^2) using the ratio of height to weight, ideally 18.5 to 24.9\n",
    "4. children - number of children covered by health insurance, ie - the number of dependents\n",
    "5. smoker - represents if the primary beneficiary is a smoker: yes or no\n",
    "6. region - the beneficiary's residential area in the US: northeast, southeast, southwest, or northwest\n",
    "7. charges - individual medical costs billed by the health insurance\n",
    "\n",
    "There are 1,338 observations in the dataset. There are no NA values in the dataset, and the types of the columns in the DataFrame look to be accurately predicted. Therefore, there will be little to no data cleaning. \n",
    "\n",
    "The inspiration of the dataset is the question, \"Can you accurately predict insurance costs?\"\n",
    "\n",
    "Our team will observe the question along with the following:\n",
    "1. a\n",
    "2. b\n",
    "3. c\n",
    "\n",
    "### Assign Variable Names\n",
    "First, we will read the csv file, and then, we will assign variables to conduct analysis on the dataset."
   ]
  },
  {
   "cell_type": "code",
   "execution_count": 6,
   "metadata": {},
   "outputs": [
    {
     "name": "stdout",
     "output_type": "stream",
     "text": [
      "1338\n",
      "1338\n"
     ]
    }
   ],
   "source": [
    "# Read the insurance.csv using the pandas library\n",
    "insurance = pd.read_csv(\"insurance.csv\")\n",
    "\n",
    "# Define a function to load data into lists\n",
    "def load_data(empty_list, column):\n",
    "    for row in insurance[column]:\n",
    "        empty_list.append(row)\n",
    "    return empty_list\n",
    "\n",
    "# Define the empty lists\n",
    "age = []\n",
    "sex = []\n",
    "bmi = []\n",
    "children = []\n",
    "smoker = []\n",
    "region = []\n",
    "charges = []\n",
    "\n",
    "# Use the function to load data to the empty lists\n",
    "load_data(age, \"age\")\n",
    "load_data(sex, \"sex\")\n",
    "load_data(bmi, \"bmi\")\n",
    "load_data(children, \"children\")\n",
    "load_data(smoker, \"smoker\")\n",
    "load_data(region, \"region\")\n",
    "load_data(charges, \"charges\")"
   ]
  }
 ],
 "metadata": {
  "kernelspec": {
   "display_name": "Python 3 (ipykernel)",
   "language": "python",
   "name": "python3"
  },
  "language_info": {
   "codemirror_mode": {
    "name": "ipython",
    "version": 3
   },
   "file_extension": ".py",
   "mimetype": "text/x-python",
   "name": "python",
   "nbconvert_exporter": "python",
   "pygments_lexer": "ipython3",
   "version": "3.11.5"
  }
 },
 "nbformat": 4,
 "nbformat_minor": 4
}
